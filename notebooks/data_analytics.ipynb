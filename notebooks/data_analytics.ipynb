{
 "cells": [
  {
   "cell_type": "markdown",
   "id": "a76e96ec",
   "metadata": {},
   "source": [
    "# 🏁 Kart Lap Times Analysis\n",
    "\n",
    "## 📘 Project Summary\n",
    "\n",
    "This notebook is part of the **Kart Lap Times Analysis** project — a data analytics case study focused on understanding patterns and performance in go-kart racing lap times.\n",
    "\n",
    "The dataset was scraped from a public kart timing website and processed to analyze:\n",
    "- Driver performance trends  \n",
    "- Track-specific lap time variations  \n",
    "- Consistency and improvement over multiple sessions  \n",
    "- Factors influencing lap speed (e.g., driver, track, conditions)\n",
    "\n",
    "---\n",
    "\n",
    "## 🎯 Objectives\n",
    "\n",
    "1. **Data Collection:**  \n",
    "   Use Python web scraping tools to extract lap time records from an online leaderboard.\n",
    "\n",
    "2. **Data Cleaning & Preparation:**  \n",
    "   Convert scraped data into structured formats (CSV, Pandas DataFrame), handle missing values, and normalize time formats.\n",
    "\n",
    "3. **Exploratory Data Analysis (EDA):**  \n",
    "   - Identify the fastest drivers and average lap time distributions.  \n",
    "   - Visualize performance differences across tracks or sessions.  \n",
    "   - Detect anomalies or outliers in recorded lap times.\n",
    "\n",
    "4. **Visualization & Insights:**  \n",
    "   Use Seaborn and Matplotlib to build visual stories that reveal key insights and trends.\n",
    "\n",
    "5. **Conclusions & Recommendations:**  \n",
    "   Summarize findings and discuss possible next steps (e.g., predictive modeling or strategy optimization).\n",
    "\n",
    "---\n",
    "\n",
    "## 🧰 Tools & Technologies\n",
    "\n",
    "| Purpose | Tools Used |\n",
    "|----------|-------------|\n",
    "| Web Scraping | `requests`, `BeautifulSoup4` |\n",
    "| Data Handling | `pandas`, `numpy` |\n",
    "| Visualization | `matplotlib`, `seaborn` |\n",
    "| Analysis | `jupyter`, `python 3.x` |\n",
    "\n",
    "---\n",
    "\n",
    "## 📂 Notebook Outline\n",
    "\n",
    "1. **Introduction & Data Overview**  \n",
    "2. **Data Cleaning and Preprocessing**  \n",
    "3. **Exploratory Data Analysis (EDA)**  \n",
    "4. **Visual Insights**  \n",
    "5. **Conclusions and Future Work**\n",
    "\n",
    "---\n",
    "\n",
    "## 🚀 Next Steps\n",
    "\n",
    "- Enrich dataset with additional variables (e.g., weather, driver age).  \n",
    "- Build a regression or time-series model to predict lap times.  \n",
    "- Automate regular data scraping and dashboard updates.\n",
    "\n",
    "---\n",
    "\n",
    "> **Author:** Your Name  \n",
    "> **Repository:** [GitHub Link to Project]  \n",
    "> **Last Updated:** October 2025\n"
   ]
  },
  {
   "cell_type": "code",
   "execution_count": 11,
   "id": "185a025d",
   "metadata": {},
   "outputs": [
    {
     "data": {
      "text/plain": [
       "'nl_NL.UTF-8'"
      ]
     },
     "execution_count": 11,
     "metadata": {},
     "output_type": "execute_result"
    }
   ],
   "source": [
    "import os\n",
    "\n",
    "import numpy as np\n",
    "import pandas as pd\n",
    "pd.options.display.float_format = '{:.2f}'.format\n",
    "\n",
    "import matplotlib.pylab as plt\n",
    "import seaborn as sns\n",
    "sns.set(rc={'figure.figsize':(20, 10)})\n",
    "\n",
    "import locale\n",
    "locale.setlocale(locale.LC_TIME, \"nl_NL.UTF-8\")"
   ]
  },
  {
   "cell_type": "markdown",
   "id": "c7920623",
   "metadata": {},
   "source": [
    "## Overall analysis\n",
    "\n",
    "Statistics:  \n",
    "Fastest driver per track (GOAT): different tracks  \n",
    "Do drivers get better: average speed increase over lap  \n",
    "Impact of aging: average fastest lap decay over time  \n",
    "Does it matter witch kart you drive: difference between 2 karts in a window\n",
    "\n",
    "Economics:  \n",
    "revenue per day (average per customer)  \n",
    "\n",
    "number of recuring customers per day  \n",
    "max number of possible drivers per day  \n",
    "missed opertunity  \n",
    "\n",
    "Staff planning: correlation between weather and number of customers  \n"
   ]
  },
  {
   "cell_type": "markdown",
   "id": "45a1e825",
   "metadata": {},
   "source": [
    "## Heat analysis of my own heat\n",
    "\n",
    "Selecteer:\n",
    "- locatie\n",
    "- heat (open om de coureurs te zien)\n",
    "- coureur\n",
    "- keuze:\n",
    "    - export lap tijden per coureur\n",
    "    - selecteer 2de heat\n",
    "\n",
    "App:\n",
    "1. Heat:\n",
    "    - (bar) Positie\n",
    "    - (line) Snelste ronde per lap\n",
    "    - (table) Statistieken\n",
    "2. Eigen prestatie:\n",
    "    - (line) Lap tijden\n",
    "    - (hist) Snelste lap t.o.v. afgelopen maand\n",
    "    - (hist) Snelste lap t.o.v. afgelopen jaar\n",
    "3. Heat vergelijken:\n",
    "    - (line) Ronde tijd per lap\n",
    "4. Groep vergelijken:\n",
    "    - (line) fastest lap per heat\n",
    "    - (table) statistieken"
   ]
  },
  {
   "cell_type": "code",
   "execution_count": 5,
   "id": "1776ae9e",
   "metadata": {},
   "outputs": [],
   "source": [
    "df = pd.read_csv(\"data.csv\", parse_dates=[\"datetime\"])"
   ]
  },
  {
   "cell_type": "code",
   "execution_count": 6,
   "id": "f3ce4109",
   "metadata": {
    "scrolled": true
   },
   "outputs": [
    {
     "data": {
      "text/html": [
       "<div>\n",
       "<style scoped>\n",
       "    .dataframe tbody tr th:only-of-type {\n",
       "        vertical-align: middle;\n",
       "    }\n",
       "\n",
       "    .dataframe tbody tr th {\n",
       "        vertical-align: top;\n",
       "    }\n",
       "\n",
       "    .dataframe thead th {\n",
       "        text-align: right;\n",
       "    }\n",
       "</style>\n",
       "<table border=\"1\" class=\"dataframe\">\n",
       "  <thead>\n",
       "    <tr style=\"text-align: right;\">\n",
       "      <th></th>\n",
       "      <th>heat_id</th>\n",
       "      <th>heat_name</th>\n",
       "      <th>datetime</th>\n",
       "      <th>name</th>\n",
       "      <th>kart</th>\n",
       "      <th>lap_time</th>\n",
       "      <th>lap</th>\n",
       "      <th>location</th>\n",
       "    </tr>\n",
       "  </thead>\n",
       "  <tbody>\n",
       "    <tr>\n",
       "      <th>0</th>\n",
       "      <td>523341BC2F7E42F4A3976495919C6D4D</td>\n",
       "      <td>Heat 1</td>\n",
       "      <td>2025-02-01 12:00:00</td>\n",
       "      <td>Tymon Keler</td>\n",
       "      <td>75</td>\n",
       "      <td>54.89</td>\n",
       "      <td>1</td>\n",
       "      <td>delft</td>\n",
       "    </tr>\n",
       "    <tr>\n",
       "      <th>1</th>\n",
       "      <td>523341BC2F7E42F4A3976495919C6D4D</td>\n",
       "      <td>Heat 1</td>\n",
       "      <td>2025-02-01 12:00:00</td>\n",
       "      <td>Tymon Keler</td>\n",
       "      <td>75</td>\n",
       "      <td>40.19</td>\n",
       "      <td>2</td>\n",
       "      <td>delft</td>\n",
       "    </tr>\n",
       "    <tr>\n",
       "      <th>2</th>\n",
       "      <td>523341BC2F7E42F4A3976495919C6D4D</td>\n",
       "      <td>Heat 1</td>\n",
       "      <td>2025-02-01 12:00:00</td>\n",
       "      <td>Tymon Keler</td>\n",
       "      <td>75</td>\n",
       "      <td>39.14</td>\n",
       "      <td>3</td>\n",
       "      <td>delft</td>\n",
       "    </tr>\n",
       "    <tr>\n",
       "      <th>3</th>\n",
       "      <td>523341BC2F7E42F4A3976495919C6D4D</td>\n",
       "      <td>Heat 1</td>\n",
       "      <td>2025-02-01 12:00:00</td>\n",
       "      <td>Tymon Keler</td>\n",
       "      <td>75</td>\n",
       "      <td>39.05</td>\n",
       "      <td>4</td>\n",
       "      <td>delft</td>\n",
       "    </tr>\n",
       "    <tr>\n",
       "      <th>4</th>\n",
       "      <td>523341BC2F7E42F4A3976495919C6D4D</td>\n",
       "      <td>Heat 1</td>\n",
       "      <td>2025-02-01 12:00:00</td>\n",
       "      <td>Tymon Keler</td>\n",
       "      <td>75</td>\n",
       "      <td>37.03</td>\n",
       "      <td>5</td>\n",
       "      <td>delft</td>\n",
       "    </tr>\n",
       "  </tbody>\n",
       "</table>\n",
       "</div>"
      ],
      "text/plain": [
       "                            heat_id heat_name            datetime  \\\n",
       "0  523341BC2F7E42F4A3976495919C6D4D    Heat 1 2025-02-01 12:00:00   \n",
       "1  523341BC2F7E42F4A3976495919C6D4D    Heat 1 2025-02-01 12:00:00   \n",
       "2  523341BC2F7E42F4A3976495919C6D4D    Heat 1 2025-02-01 12:00:00   \n",
       "3  523341BC2F7E42F4A3976495919C6D4D    Heat 1 2025-02-01 12:00:00   \n",
       "4  523341BC2F7E42F4A3976495919C6D4D    Heat 1 2025-02-01 12:00:00   \n",
       "\n",
       "          name  kart  lap_time  lap location  \n",
       "0  Tymon Keler    75     54.89    1    delft  \n",
       "1  Tymon Keler    75     40.19    2    delft  \n",
       "2  Tymon Keler    75     39.14    3    delft  \n",
       "3  Tymon Keler    75     39.05    4    delft  \n",
       "4  Tymon Keler    75     37.03    5    delft  "
      ]
     },
     "execution_count": 6,
     "metadata": {},
     "output_type": "execute_result"
    }
   ],
   "source": [
    "df.head()"
   ]
  },
  {
   "cell_type": "code",
   "execution_count": 7,
   "id": "a3ec3a2d",
   "metadata": {},
   "outputs": [
    {
     "data": {
      "text/plain": [
       "heat_id              object\n",
       "heat_name            object\n",
       "datetime     datetime64[ns]\n",
       "name                 object\n",
       "kart                  int64\n",
       "lap_time            float64\n",
       "lap                   int64\n",
       "location             object\n",
       "dtype: object"
      ]
     },
     "execution_count": 7,
     "metadata": {},
     "output_type": "execute_result"
    }
   ],
   "source": [
    "df.dtypes"
   ]
  },
  {
   "cell_type": "code",
   "execution_count": null,
   "id": "1132dbea",
   "metadata": {},
   "outputs": [],
   "source": []
  },
  {
   "cell_type": "code",
   "execution_count": 41,
   "id": "7c534645",
   "metadata": {},
   "outputs": [],
   "source": [
    "df[\"date\"] = pd.to_datetime(df[\"datetime\"].dt.date)\n",
    "df[\"hour\"] = df[\"datetime\"].dt.hour\n",
    "df[\"iso_week\"] = df[\"datetime\"].dt.isocalendar().week\n",
    "df[\"iso_year\"] = df[\"datetime\"].dt.isocalendar().year\n",
    "df[\"year_month\"] = df[\"datetime\"].values.astype(\"datetime64[M]\")"
   ]
  },
  {
   "cell_type": "code",
   "execution_count": null,
   "id": "be801ee8",
   "metadata": {},
   "outputs": [],
   "source": []
  },
  {
   "cell_type": "code",
   "execution_count": 14,
   "id": "9aec4c8b",
   "metadata": {},
   "outputs": [],
   "source": [
    "df[\"heat_min\"] = df.groupby(\"heat_id\")[\"lap_time\"].transform(\"min\")\n",
    "df[\"track\"] = df[\"heat_min\"].apply(lambda x: 'A' if x < 34.37 else ('B' if x < 60.24 else 'C'))"
   ]
  },
  {
   "cell_type": "code",
   "execution_count": 16,
   "id": "a9610652",
   "metadata": {},
   "outputs": [
    {
     "data": {
      "image/png": "[encoded data removed]",
      "text/plain": [
       "<Figure size 1440x720 with 1 Axes>"
      ]
     },
     "metadata": {},
     "output_type": "display_data"
    }
   ],
   "source": [
    "ax = sns.histplot(\n",
    "    data=df[df[\"location\"] == \"delft\"],\n",
    "    x=\"lap_time\",\n",
    "    hue=\"track\"\n",
    ")\n",
    "plt.xlim(20, 200)\n",
    "\n",
    "ax.set_title(\"Verdeling rondetijd per baan\", fontsize=16, loc=\"left\")\n",
    "ax.set_ylabel(None)\n",
    "ax.set_xlabel(None)\n",
    "\n",
    "plt.show()"
   ]
  },
  {
   "cell_type": "code",
   "execution_count": null,
   "id": "b3188f4e",
   "metadata": {},
   "outputs": [],
   "source": []
  },
  {
   "cell_type": "code",
   "execution_count": null,
   "id": "94787dc2",
   "metadata": {},
   "outputs": [],
   "source": []
  },
  {
   "cell_type": "code",
   "execution_count": 50,
   "id": "3f6be63c",
   "metadata": {},
   "outputs": [
    {
     "data": {
      "image/png": "[encoded data removed]",
      "text/plain": [
       "<Figure size 1440x720 with 1 Axes>"
      ]
     },
     "metadata": {},
     "output_type": "display_data"
    }
   ],
   "source": [
    "ax = sns.barplot(\n",
    "    data=df[\n",
    "        (df[\"location\"] == \"delft\")\n",
    "#         & (df[\"track\"] == 'B')\n",
    "        & (df[\"lap\"] <= 20)\n",
    "    ],\n",
    "    x=\"lap\",\n",
    "    y=\"lap_time\",\n",
    "    hue=\"track\"\n",
    "\n",
    "#     color='b'\n",
    ")\n",
    "plt.ylim(0, 125)\n",
    "\n",
    "ax.set_title(\"Gemiddelde ronde tijd per lap\", fontsize=16, loc=\"left\")\n",
    "ax.set_ylabel(None)\n",
    "ax.set_xlabel(None)\n",
    "\n",
    "plt.show()"
   ]
  },
  {
   "cell_type": "code",
   "execution_count": 26,
   "id": "771916bc",
   "metadata": {},
   "outputs": [
    {
     "data": {
      "image/png": "[encoded data removed]",
      "text/plain": [
       "<Figure size 1440x720 with 1 Axes>"
      ]
     },
     "metadata": {},
     "output_type": "display_data"
    }
   ],
   "source": [
    "ax = sns.barplot(\n",
    "    data=df[\n",
    "        (df[\"location\"] == \"delft\")\n",
    "        & (df[\"track\"] == 'B')\n",
    "        & (df[\"lap\"] <= 20)\n",
    "    ].groupby(\"lap\")[\"heat_id\"].count().reset_index(),\n",
    "    x=\"lap\",\n",
    "    y=\"heat_id\",\n",
    "    color='b'\n",
    ")\n",
    "\n",
    "ax.set_title(\"Aantal gereden laps\", fontsize=16, loc=\"left\")\n",
    "ax.set_ylabel(None)\n",
    "ax.set_xlabel(None)\n",
    "\n",
    "plt.show()"
   ]
  },
  {
   "cell_type": "code",
   "execution_count": null,
   "id": "002e162d",
   "metadata": {},
   "outputs": [],
   "source": []
  },
  {
   "cell_type": "code",
   "execution_count": null,
   "id": "21295bfb",
   "metadata": {},
   "outputs": [],
   "source": []
  },
  {
   "cell_type": "code",
   "execution_count": null,
   "id": "fc298f0c",
   "metadata": {},
   "outputs": [],
   "source": []
  },
  {
   "cell_type": "code",
   "execution_count": 47,
   "id": "863dc7a5",
   "metadata": {},
   "outputs": [
    {
     "data": {
      "text/html": [
       "<div>\n",
       "<style scoped>\n",
       "    .dataframe tbody tr th:only-of-type {\n",
       "        vertical-align: middle;\n",
       "    }\n",
       "\n",
       "    .dataframe tbody tr th {\n",
       "        vertical-align: top;\n",
       "    }\n",
       "\n",
       "    .dataframe thead th {\n",
       "        text-align: right;\n",
       "    }\n",
       "</style>\n",
       "<table border=\"1\" class=\"dataframe\">\n",
       "  <thead>\n",
       "    <tr style=\"text-align: right;\">\n",
       "      <th></th>\n",
       "      <th>heat_id</th>\n",
       "      <th>heat_name</th>\n",
       "      <th>datetime</th>\n",
       "      <th>name</th>\n",
       "      <th>kart</th>\n",
       "      <th>lap_time</th>\n",
       "      <th>lap</th>\n",
       "      <th>location</th>\n",
       "      <th>heat_min</th>\n",
       "      <th>track</th>\n",
       "      <th>date</th>\n",
       "      <th>hour</th>\n",
       "      <th>year_month</th>\n",
       "      <th>iso_week</th>\n",
       "      <th>iso_year</th>\n",
       "    </tr>\n",
       "  </thead>\n",
       "  <tbody>\n",
       "    <tr>\n",
       "      <th>0</th>\n",
       "      <td>523341BC2F7E42F4A3976495919C6D4D</td>\n",
       "      <td>Heat 1</td>\n",
       "      <td>2025-02-01 12:00:00</td>\n",
       "      <td>Tymon Keler</td>\n",
       "      <td>75</td>\n",
       "      <td>54.89</td>\n",
       "      <td>1</td>\n",
       "      <td>delft</td>\n",
       "      <td>30.63</td>\n",
       "      <td>A</td>\n",
       "      <td>2025-02-01</td>\n",
       "      <td>12</td>\n",
       "      <td>2025-02-01</td>\n",
       "      <td>5</td>\n",
       "      <td>2025</td>\n",
       "    </tr>\n",
       "    <tr>\n",
       "      <th>1</th>\n",
       "      <td>523341BC2F7E42F4A3976495919C6D4D</td>\n",
       "      <td>Heat 1</td>\n",
       "      <td>2025-02-01 12:00:00</td>\n",
       "      <td>Tymon Keler</td>\n",
       "      <td>75</td>\n",
       "      <td>40.19</td>\n",
       "      <td>2</td>\n",
       "      <td>delft</td>\n",
       "      <td>30.63</td>\n",
       "      <td>A</td>\n",
       "      <td>2025-02-01</td>\n",
       "      <td>12</td>\n",
       "      <td>2025-02-01</td>\n",
       "      <td>5</td>\n",
       "      <td>2025</td>\n",
       "    </tr>\n",
       "    <tr>\n",
       "      <th>2</th>\n",
       "      <td>523341BC2F7E42F4A3976495919C6D4D</td>\n",
       "      <td>Heat 1</td>\n",
       "      <td>2025-02-01 12:00:00</td>\n",
       "      <td>Tymon Keler</td>\n",
       "      <td>75</td>\n",
       "      <td>39.14</td>\n",
       "      <td>3</td>\n",
       "      <td>delft</td>\n",
       "      <td>30.63</td>\n",
       "      <td>A</td>\n",
       "      <td>2025-02-01</td>\n",
       "      <td>12</td>\n",
       "      <td>2025-02-01</td>\n",
       "      <td>5</td>\n",
       "      <td>2025</td>\n",
       "    </tr>\n",
       "    <tr>\n",
       "      <th>3</th>\n",
       "      <td>523341BC2F7E42F4A3976495919C6D4D</td>\n",
       "      <td>Heat 1</td>\n",
       "      <td>2025-02-01 12:00:00</td>\n",
       "      <td>Tymon Keler</td>\n",
       "      <td>75</td>\n",
       "      <td>39.05</td>\n",
       "      <td>4</td>\n",
       "      <td>delft</td>\n",
       "      <td>30.63</td>\n",
       "      <td>A</td>\n",
       "      <td>2025-02-01</td>\n",
       "      <td>12</td>\n",
       "      <td>2025-02-01</td>\n",
       "      <td>5</td>\n",
       "      <td>2025</td>\n",
       "    </tr>\n",
       "    <tr>\n",
       "      <th>4</th>\n",
       "      <td>523341BC2F7E42F4A3976495919C6D4D</td>\n",
       "      <td>Heat 1</td>\n",
       "      <td>2025-02-01 12:00:00</td>\n",
       "      <td>Tymon Keler</td>\n",
       "      <td>75</td>\n",
       "      <td>37.03</td>\n",
       "      <td>5</td>\n",
       "      <td>delft</td>\n",
       "      <td>30.63</td>\n",
       "      <td>A</td>\n",
       "      <td>2025-02-01</td>\n",
       "      <td>12</td>\n",
       "      <td>2025-02-01</td>\n",
       "      <td>5</td>\n",
       "      <td>2025</td>\n",
       "    </tr>\n",
       "  </tbody>\n",
       "</table>\n",
       "</div>"
      ],
      "text/plain": [
       "                            heat_id heat_name            datetime  \\\n",
       "0  523341BC2F7E42F4A3976495919C6D4D    Heat 1 2025-02-01 12:00:00   \n",
       "1  523341BC2F7E42F4A3976495919C6D4D    Heat 1 2025-02-01 12:00:00   \n",
       "2  523341BC2F7E42F4A3976495919C6D4D    Heat 1 2025-02-01 12:00:00   \n",
       "3  523341BC2F7E42F4A3976495919C6D4D    Heat 1 2025-02-01 12:00:00   \n",
       "4  523341BC2F7E42F4A3976495919C6D4D    Heat 1 2025-02-01 12:00:00   \n",
       "\n",
       "          name  kart  lap_time  lap location  heat_min track       date  hour  \\\n",
       "0  Tymon Keler    75     54.89    1    delft     30.63     A 2025-02-01    12   \n",
       "1  Tymon Keler    75     40.19    2    delft     30.63     A 2025-02-01    12   \n",
       "2  Tymon Keler    75     39.14    3    delft     30.63     A 2025-02-01    12   \n",
       "3  Tymon Keler    75     39.05    4    delft     30.63     A 2025-02-01    12   \n",
       "4  Tymon Keler    75     37.03    5    delft     30.63     A 2025-02-01    12   \n",
       "\n",
       "  year_month  iso_week  iso_year  \n",
       "0 2025-02-01         5      2025  \n",
       "1 2025-02-01         5      2025  \n",
       "2 2025-02-01         5      2025  \n",
       "3 2025-02-01         5      2025  \n",
       "4 2025-02-01         5      2025  "
      ]
     },
     "execution_count": 47,
     "metadata": {},
     "output_type": "execute_result"
    }
   ],
   "source": [
    "df.head()"
   ]
  },
  {
   "cell_type": "code",
   "execution_count": null,
   "id": "85b3a62c",
   "metadata": {},
   "outputs": [],
   "source": []
  },
  {
   "cell_type": "code",
   "execution_count": null,
   "id": "25a28059",
   "metadata": {},
   "outputs": [],
   "source": []
  },
  {
   "cell_type": "code",
   "execution_count": 56,
   "id": "eaba85ed",
   "metadata": {},
   "outputs": [],
   "source": [
    "heat_duration = df[df[\"location\"] == \"delft\"] \\\n",
    "    .groupby([\"track\", \"heat_id\", \"name\"])[\"lap_time\"].sum().reset_index() \\\n",
    "    .groupby([\"track\", \"heat_id\"])[\"lap_time\"].max().reset_index()\n",
    "\n",
    "heat_duration[\"lap_time\"] = heat_duration[\"lap_time\"]/60"
   ]
  },
  {
   "cell_type": "code",
   "execution_count": 57,
   "id": "c261a120",
   "metadata": {},
   "outputs": [
    {
     "data": {
      "text/html": [
       "<div>\n",
       "<style scoped>\n",
       "    .dataframe tbody tr th:only-of-type {\n",
       "        vertical-align: middle;\n",
       "    }\n",
       "\n",
       "    .dataframe tbody tr th {\n",
       "        vertical-align: top;\n",
       "    }\n",
       "\n",
       "    .dataframe thead th {\n",
       "        text-align: right;\n",
       "    }\n",
       "</style>\n",
       "<table border=\"1\" class=\"dataframe\">\n",
       "  <thead>\n",
       "    <tr style=\"text-align: right;\">\n",
       "      <th></th>\n",
       "      <th>track</th>\n",
       "      <th>heat_id</th>\n",
       "      <th>lap_time</th>\n",
       "    </tr>\n",
       "  </thead>\n",
       "  <tbody>\n",
       "    <tr>\n",
       "      <th>0</th>\n",
       "      <td>A</td>\n",
       "      <td>006373CB17634EEC8BCB9C15F9569A90</td>\n",
       "      <td>10.01</td>\n",
       "    </tr>\n",
       "    <tr>\n",
       "      <th>1</th>\n",
       "      <td>A</td>\n",
       "      <td>0084AD71D865400CA3DF2FB3C69E4C2D</td>\n",
       "      <td>9.37</td>\n",
       "    </tr>\n",
       "    <tr>\n",
       "      <th>2</th>\n",
       "      <td>A</td>\n",
       "      <td>00F34F9F0E4341578E53081E3AE04E0F</td>\n",
       "      <td>9.83</td>\n",
       "    </tr>\n",
       "    <tr>\n",
       "      <th>3</th>\n",
       "      <td>A</td>\n",
       "      <td>011D1448B01B4FC7B9A334A41C7599C4</td>\n",
       "      <td>9.90</td>\n",
       "    </tr>\n",
       "    <tr>\n",
       "      <th>4</th>\n",
       "      <td>A</td>\n",
       "      <td>015FEFCFA7DF437C956AAA1896AF149F</td>\n",
       "      <td>9.86</td>\n",
       "    </tr>\n",
       "  </tbody>\n",
       "</table>\n",
       "</div>"
      ],
      "text/plain": [
       "  track                           heat_id  lap_time\n",
       "0     A  006373CB17634EEC8BCB9C15F9569A90     10.01\n",
       "1     A  0084AD71D865400CA3DF2FB3C69E4C2D      9.37\n",
       "2     A  00F34F9F0E4341578E53081E3AE04E0F      9.83\n",
       "3     A  011D1448B01B4FC7B9A334A41C7599C4      9.90\n",
       "4     A  015FEFCFA7DF437C956AAA1896AF149F      9.86"
      ]
     },
     "execution_count": 57,
     "metadata": {},
     "output_type": "execute_result"
    }
   ],
   "source": [
    "heat_duration.head()"
   ]
  },
  {
   "cell_type": "code",
   "execution_count": 59,
   "id": "c8479fc1",
   "metadata": {},
   "outputs": [
    {
     "data": {
      "image/png": "[encoded data removed]",
      "text/plain": [
       "<Figure size 1440x720 with 1 Axes>"
      ]
     },
     "metadata": {},
     "output_type": "display_data"
    }
   ],
   "source": [
    "ax = sns.histplot(\n",
    "    data=heat_duration,\n",
    "    x=\"lap_time\",\n",
    "    hue=\"track\"\n",
    ")\n",
    "plt.xlim(0, 12)\n",
    "\n",
    "ax.set_title(\"Totale heat duur in minuten\", fontsize=16, loc=\"left\")\n",
    "ax.set_ylabel(None)\n",
    "ax.set_xlabel(None)\n",
    "\n",
    "plt.show()"
   ]
  },
  {
   "cell_type": "code",
   "execution_count": null,
   "id": "8f7e24e2",
   "metadata": {},
   "outputs": [],
   "source": []
  },
  {
   "cell_type": "code",
   "execution_count": null,
   "id": "d607e921",
   "metadata": {},
   "outputs": [],
   "source": []
  },
  {
   "cell_type": "markdown",
   "id": "534a56ca",
   "metadata": {},
   "source": [
    "### Recuring customers"
   ]
  },
  {
   "cell_type": "code",
   "execution_count": 83,
   "id": "194623f8",
   "metadata": {},
   "outputs": [],
   "source": [
    "temp = df[[\"location\", \"heat_id\", \"date\", \"name\"]].drop_duplicates()\n",
    "temp = temp.groupby([\"location\", \"date\", \"name\"])[\"heat_id\"].count().reset_index()"
   ]
  },
  {
   "cell_type": "code",
   "execution_count": 84,
   "id": "ce7b4858",
   "metadata": {},
   "outputs": [],
   "source": [
    "temp = temp.groupby(\"heat_id\")[\"name\"].count().reset_index()\n",
    "temp[\"%\"] = temp[\"name\"].div(temp[\"name\"].sum()).mul(100)"
   ]
  },
  {
   "cell_type": "code",
   "execution_count": 85,
   "id": "f281048e",
   "metadata": {},
   "outputs": [
    {
     "data": {
      "text/html": [
       "<div>\n",
       "<style scoped>\n",
       "    .dataframe tbody tr th:only-of-type {\n",
       "        vertical-align: middle;\n",
       "    }\n",
       "\n",
       "    .dataframe tbody tr th {\n",
       "        vertical-align: top;\n",
       "    }\n",
       "\n",
       "    .dataframe thead th {\n",
       "        text-align: right;\n",
       "    }\n",
       "</style>\n",
       "<table border=\"1\" class=\"dataframe\">\n",
       "  <thead>\n",
       "    <tr style=\"text-align: right;\">\n",
       "      <th></th>\n",
       "      <th>heat_id</th>\n",
       "      <th>name</th>\n",
       "      <th>%</th>\n",
       "    </tr>\n",
       "  </thead>\n",
       "  <tbody>\n",
       "    <tr>\n",
       "      <th>0</th>\n",
       "      <td>1</td>\n",
       "      <td>28159</td>\n",
       "      <td>48.87</td>\n",
       "    </tr>\n",
       "    <tr>\n",
       "      <th>1</th>\n",
       "      <td>2</td>\n",
       "      <td>23823</td>\n",
       "      <td>41.35</td>\n",
       "    </tr>\n",
       "    <tr>\n",
       "      <th>2</th>\n",
       "      <td>3</td>\n",
       "      <td>4380</td>\n",
       "      <td>7.60</td>\n",
       "    </tr>\n",
       "    <tr>\n",
       "      <th>3</th>\n",
       "      <td>4</td>\n",
       "      <td>393</td>\n",
       "      <td>0.68</td>\n",
       "    </tr>\n",
       "    <tr>\n",
       "      <th>4</th>\n",
       "      <td>5</td>\n",
       "      <td>767</td>\n",
       "      <td>1.33</td>\n",
       "    </tr>\n",
       "    <tr>\n",
       "      <th>5</th>\n",
       "      <td>6</td>\n",
       "      <td>34</td>\n",
       "      <td>0.06</td>\n",
       "    </tr>\n",
       "    <tr>\n",
       "      <th>6</th>\n",
       "      <td>7</td>\n",
       "      <td>60</td>\n",
       "      <td>0.10</td>\n",
       "    </tr>\n",
       "    <tr>\n",
       "      <th>7</th>\n",
       "      <td>8</td>\n",
       "      <td>1</td>\n",
       "      <td>0.00</td>\n",
       "    </tr>\n",
       "    <tr>\n",
       "      <th>8</th>\n",
       "      <td>12</td>\n",
       "      <td>1</td>\n",
       "      <td>0.00</td>\n",
       "    </tr>\n",
       "  </tbody>\n",
       "</table>\n",
       "</div>"
      ],
      "text/plain": [
       "   heat_id   name     %\n",
       "0        1  28159 48.87\n",
       "1        2  23823 41.35\n",
       "2        3   4380  7.60\n",
       "3        4    393  0.68\n",
       "4        5    767  1.33\n",
       "5        6     34  0.06\n",
       "6        7     60  0.10\n",
       "7        8      1  0.00\n",
       "8       12      1  0.00"
      ]
     },
     "execution_count": 85,
     "metadata": {},
     "output_type": "execute_result"
    }
   ],
   "source": [
    "temp"
   ]
  },
  {
   "cell_type": "code",
   "execution_count": null,
   "id": "282d9beb",
   "metadata": {},
   "outputs": [],
   "source": []
  },
  {
   "cell_type": "code",
   "execution_count": null,
   "id": "e8f67069",
   "metadata": {},
   "outputs": [],
   "source": [
    "ax = sns.barplot(\n",
    "    data=temp.groupby([\"location\", \"date\", \"name\"])[\"heat_id\"].count().reset_index(),\n",
    "    x=\"lap\",\n",
    "    y=\"heat_id\",\n",
    "    color='b'\n",
    ")\n",
    "\n",
    "ax.set_title(\"Aantal gereden laps\", fontsize=16, loc=\"left\")\n",
    "ax.set_ylabel(None)\n",
    "ax.set_xlabel(None)\n",
    "\n",
    "plt.show()"
   ]
  },
  {
   "cell_type": "code",
   "execution_count": 60,
   "id": "a32d0b81",
   "metadata": {},
   "outputs": [
    {
     "data": {
      "text/html": [
       "<div>\n",
       "<style scoped>\n",
       "    .dataframe tbody tr th:only-of-type {\n",
       "        vertical-align: middle;\n",
       "    }\n",
       "\n",
       "    .dataframe tbody tr th {\n",
       "        vertical-align: top;\n",
       "    }\n",
       "\n",
       "    .dataframe thead th {\n",
       "        text-align: right;\n",
       "    }\n",
       "</style>\n",
       "<table border=\"1\" class=\"dataframe\">\n",
       "  <thead>\n",
       "    <tr style=\"text-align: right;\">\n",
       "      <th></th>\n",
       "      <th>heat_id</th>\n",
       "      <th>heat_name</th>\n",
       "      <th>datetime</th>\n",
       "      <th>name</th>\n",
       "      <th>kart</th>\n",
       "      <th>lap_time</th>\n",
       "      <th>lap</th>\n",
       "      <th>location</th>\n",
       "      <th>heat_min</th>\n",
       "      <th>track</th>\n",
       "      <th>date</th>\n",
       "      <th>hour</th>\n",
       "      <th>year_month</th>\n",
       "      <th>iso_week</th>\n",
       "      <th>iso_year</th>\n",
       "    </tr>\n",
       "  </thead>\n",
       "  <tbody>\n",
       "    <tr>\n",
       "      <th>0</th>\n",
       "      <td>523341BC2F7E42F4A3976495919C6D4D</td>\n",
       "      <td>Heat 1</td>\n",
       "      <td>2025-02-01 12:00:00</td>\n",
       "      <td>Tymon Keler</td>\n",
       "      <td>75</td>\n",
       "      <td>54.89</td>\n",
       "      <td>1</td>\n",
       "      <td>delft</td>\n",
       "      <td>30.63</td>\n",
       "      <td>A</td>\n",
       "      <td>2025-02-01</td>\n",
       "      <td>12</td>\n",
       "      <td>2025-02-01</td>\n",
       "      <td>5</td>\n",
       "      <td>2025</td>\n",
       "    </tr>\n",
       "    <tr>\n",
       "      <th>1</th>\n",
       "      <td>523341BC2F7E42F4A3976495919C6D4D</td>\n",
       "      <td>Heat 1</td>\n",
       "      <td>2025-02-01 12:00:00</td>\n",
       "      <td>Tymon Keler</td>\n",
       "      <td>75</td>\n",
       "      <td>40.19</td>\n",
       "      <td>2</td>\n",
       "      <td>delft</td>\n",
       "      <td>30.63</td>\n",
       "      <td>A</td>\n",
       "      <td>2025-02-01</td>\n",
       "      <td>12</td>\n",
       "      <td>2025-02-01</td>\n",
       "      <td>5</td>\n",
       "      <td>2025</td>\n",
       "    </tr>\n",
       "    <tr>\n",
       "      <th>2</th>\n",
       "      <td>523341BC2F7E42F4A3976495919C6D4D</td>\n",
       "      <td>Heat 1</td>\n",
       "      <td>2025-02-01 12:00:00</td>\n",
       "      <td>Tymon Keler</td>\n",
       "      <td>75</td>\n",
       "      <td>39.14</td>\n",
       "      <td>3</td>\n",
       "      <td>delft</td>\n",
       "      <td>30.63</td>\n",
       "      <td>A</td>\n",
       "      <td>2025-02-01</td>\n",
       "      <td>12</td>\n",
       "      <td>2025-02-01</td>\n",
       "      <td>5</td>\n",
       "      <td>2025</td>\n",
       "    </tr>\n",
       "    <tr>\n",
       "      <th>3</th>\n",
       "      <td>523341BC2F7E42F4A3976495919C6D4D</td>\n",
       "      <td>Heat 1</td>\n",
       "      <td>2025-02-01 12:00:00</td>\n",
       "      <td>Tymon Keler</td>\n",
       "      <td>75</td>\n",
       "      <td>39.05</td>\n",
       "      <td>4</td>\n",
       "      <td>delft</td>\n",
       "      <td>30.63</td>\n",
       "      <td>A</td>\n",
       "      <td>2025-02-01</td>\n",
       "      <td>12</td>\n",
       "      <td>2025-02-01</td>\n",
       "      <td>5</td>\n",
       "      <td>2025</td>\n",
       "    </tr>\n",
       "    <tr>\n",
       "      <th>4</th>\n",
       "      <td>523341BC2F7E42F4A3976495919C6D4D</td>\n",
       "      <td>Heat 1</td>\n",
       "      <td>2025-02-01 12:00:00</td>\n",
       "      <td>Tymon Keler</td>\n",
       "      <td>75</td>\n",
       "      <td>37.03</td>\n",
       "      <td>5</td>\n",
       "      <td>delft</td>\n",
       "      <td>30.63</td>\n",
       "      <td>A</td>\n",
       "      <td>2025-02-01</td>\n",
       "      <td>12</td>\n",
       "      <td>2025-02-01</td>\n",
       "      <td>5</td>\n",
       "      <td>2025</td>\n",
       "    </tr>\n",
       "    <tr>\n",
       "      <th>...</th>\n",
       "      <td>...</td>\n",
       "      <td>...</td>\n",
       "      <td>...</td>\n",
       "      <td>...</td>\n",
       "      <td>...</td>\n",
       "      <td>...</td>\n",
       "      <td>...</td>\n",
       "      <td>...</td>\n",
       "      <td>...</td>\n",
       "      <td>...</td>\n",
       "      <td>...</td>\n",
       "      <td>...</td>\n",
       "      <td>...</td>\n",
       "      <td>...</td>\n",
       "      <td>...</td>\n",
       "    </tr>\n",
       "    <tr>\n",
       "      <th>647285</th>\n",
       "      <td>84D2FD045DF3450AB03676E1FF922724</td>\n",
       "      <td>Heat 42</td>\n",
       "      <td>2025-04-30 21:15:00</td>\n",
       "      <td>Parsa</td>\n",
       "      <td>22</td>\n",
       "      <td>45.29</td>\n",
       "      <td>6</td>\n",
       "      <td>delft</td>\n",
       "      <td>39.49</td>\n",
       "      <td>B</td>\n",
       "      <td>2025-04-30</td>\n",
       "      <td>21</td>\n",
       "      <td>2025-04-01</td>\n",
       "      <td>18</td>\n",
       "      <td>2025</td>\n",
       "    </tr>\n",
       "    <tr>\n",
       "      <th>647286</th>\n",
       "      <td>84D2FD045DF3450AB03676E1FF922724</td>\n",
       "      <td>Heat 42</td>\n",
       "      <td>2025-04-30 21:15:00</td>\n",
       "      <td>Parsa</td>\n",
       "      <td>22</td>\n",
       "      <td>45.69</td>\n",
       "      <td>7</td>\n",
       "      <td>delft</td>\n",
       "      <td>39.49</td>\n",
       "      <td>B</td>\n",
       "      <td>2025-04-30</td>\n",
       "      <td>21</td>\n",
       "      <td>2025-04-01</td>\n",
       "      <td>18</td>\n",
       "      <td>2025</td>\n",
       "    </tr>\n",
       "    <tr>\n",
       "      <th>647287</th>\n",
       "      <td>84D2FD045DF3450AB03676E1FF922724</td>\n",
       "      <td>Heat 42</td>\n",
       "      <td>2025-04-30 21:15:00</td>\n",
       "      <td>Parsa</td>\n",
       "      <td>22</td>\n",
       "      <td>44.88</td>\n",
       "      <td>8</td>\n",
       "      <td>delft</td>\n",
       "      <td>39.49</td>\n",
       "      <td>B</td>\n",
       "      <td>2025-04-30</td>\n",
       "      <td>21</td>\n",
       "      <td>2025-04-01</td>\n",
       "      <td>18</td>\n",
       "      <td>2025</td>\n",
       "    </tr>\n",
       "    <tr>\n",
       "      <th>647288</th>\n",
       "      <td>84D2FD045DF3450AB03676E1FF922724</td>\n",
       "      <td>Heat 42</td>\n",
       "      <td>2025-04-30 21:15:00</td>\n",
       "      <td>Parsa</td>\n",
       "      <td>22</td>\n",
       "      <td>46.30</td>\n",
       "      <td>9</td>\n",
       "      <td>delft</td>\n",
       "      <td>39.49</td>\n",
       "      <td>B</td>\n",
       "      <td>2025-04-30</td>\n",
       "      <td>21</td>\n",
       "      <td>2025-04-01</td>\n",
       "      <td>18</td>\n",
       "      <td>2025</td>\n",
       "    </tr>\n",
       "    <tr>\n",
       "      <th>647289</th>\n",
       "      <td>84D2FD045DF3450AB03676E1FF922724</td>\n",
       "      <td>Heat 42</td>\n",
       "      <td>2025-04-30 21:15:00</td>\n",
       "      <td>Parsa</td>\n",
       "      <td>22</td>\n",
       "      <td>91.92</td>\n",
       "      <td>10</td>\n",
       "      <td>delft</td>\n",
       "      <td>39.49</td>\n",
       "      <td>B</td>\n",
       "      <td>2025-04-30</td>\n",
       "      <td>21</td>\n",
       "      <td>2025-04-01</td>\n",
       "      <td>18</td>\n",
       "      <td>2025</td>\n",
       "    </tr>\n",
       "  </tbody>\n",
       "</table>\n",
       "<p>647290 rows × 15 columns</p>\n",
       "</div>"
      ],
      "text/plain": [
       "                                 heat_id heat_name            datetime  \\\n",
       "0       523341BC2F7E42F4A3976495919C6D4D    Heat 1 2025-02-01 12:00:00   \n",
       "1       523341BC2F7E42F4A3976495919C6D4D    Heat 1 2025-02-01 12:00:00   \n",
       "2       523341BC2F7E42F4A3976495919C6D4D    Heat 1 2025-02-01 12:00:00   \n",
       "3       523341BC2F7E42F4A3976495919C6D4D    Heat 1 2025-02-01 12:00:00   \n",
       "4       523341BC2F7E42F4A3976495919C6D4D    Heat 1 2025-02-01 12:00:00   \n",
       "...                                  ...       ...                 ...   \n",
       "647285  84D2FD045DF3450AB03676E1FF922724   Heat 42 2025-04-30 21:15:00   \n",
       "647286  84D2FD045DF3450AB03676E1FF922724   Heat 42 2025-04-30 21:15:00   \n",
       "647287  84D2FD045DF3450AB03676E1FF922724   Heat 42 2025-04-30 21:15:00   \n",
       "647288  84D2FD045DF3450AB03676E1FF922724   Heat 42 2025-04-30 21:15:00   \n",
       "647289  84D2FD045DF3450AB03676E1FF922724   Heat 42 2025-04-30 21:15:00   \n",
       "\n",
       "               name  kart  lap_time  lap location  heat_min track       date  \\\n",
       "0       Tymon Keler    75     54.89    1    delft     30.63     A 2025-02-01   \n",
       "1       Tymon Keler    75     40.19    2    delft     30.63     A 2025-02-01   \n",
       "2       Tymon Keler    75     39.14    3    delft     30.63     A 2025-02-01   \n",
       "3       Tymon Keler    75     39.05    4    delft     30.63     A 2025-02-01   \n",
       "4       Tymon Keler    75     37.03    5    delft     30.63     A 2025-02-01   \n",
       "...             ...   ...       ...  ...      ...       ...   ...        ...   \n",
       "647285        Parsa    22     45.29    6    delft     39.49     B 2025-04-30   \n",
       "647286        Parsa    22     45.69    7    delft     39.49     B 2025-04-30   \n",
       "647287        Parsa    22     44.88    8    delft     39.49     B 2025-04-30   \n",
       "647288        Parsa    22     46.30    9    delft     39.49     B 2025-04-30   \n",
       "647289        Parsa    22     91.92   10    delft     39.49     B 2025-04-30   \n",
       "\n",
       "        hour year_month  iso_week  iso_year  \n",
       "0         12 2025-02-01         5      2025  \n",
       "1         12 2025-02-01         5      2025  \n",
       "2         12 2025-02-01         5      2025  \n",
       "3         12 2025-02-01         5      2025  \n",
       "4         12 2025-02-01         5      2025  \n",
       "...      ...        ...       ...       ...  \n",
       "647285    21 2025-04-01        18      2025  \n",
       "647286    21 2025-04-01        18      2025  \n",
       "647287    21 2025-04-01        18      2025  \n",
       "647288    21 2025-04-01        18      2025  \n",
       "647289    21 2025-04-01        18      2025  \n",
       "\n",
       "[647290 rows x 15 columns]"
      ]
     },
     "execution_count": 60,
     "metadata": {},
     "output_type": "execute_result"
    }
   ],
   "source": [
    "df.groupby([\"location\"])"
   ]
  },
  {
   "cell_type": "code",
   "execution_count": null,
   "id": "5d4c01cb",
   "metadata": {},
   "outputs": [],
   "source": []
  },
  {
   "cell_type": "code",
   "execution_count": null,
   "id": "701d8163",
   "metadata": {},
   "outputs": [],
   "source": []
  },
  {
   "cell_type": "code",
   "execution_count": null,
   "id": "00a896e6",
   "metadata": {},
   "outputs": [],
   "source": []
  },
  {
   "cell_type": "code",
   "execution_count": null,
   "id": "63514c31",
   "metadata": {},
   "outputs": [],
   "source": []
  },
  {
   "cell_type": "code",
   "execution_count": null,
   "id": "146a4621",
   "metadata": {},
   "outputs": [],
   "source": []
  },
  {
   "cell_type": "code",
   "execution_count": 102,
   "id": "3e8eeaf3",
   "metadata": {},
   "outputs": [
    {
     "data": {
      "text/plain": [
       "date\n",
       "2025-01-01    2970\n",
       "2025-01-02    6236\n",
       "2025-01-03    5446\n",
       "2025-01-04    6311\n",
       "2025-01-05    1484\n",
       "              ... \n",
       "2025-09-26    2581\n",
       "2025-09-27    4425\n",
       "2025-09-28    4162\n",
       "2025-09-29    1899\n",
       "2025-09-30    1621\n",
       "Name: heat_id, Length: 272, dtype: int64"
      ]
     },
     "execution_count": 102,
     "metadata": {},
     "output_type": "execute_result"
    }
   ],
   "source": [
    "df[df[\"location\"] == \"delft\"].groupby(\"date\")[\"heat_id\"].count()"
   ]
  },
  {
   "cell_type": "code",
   "execution_count": null,
   "id": "dbd687a0",
   "metadata": {},
   "outputs": [],
   "source": []
  },
  {
   "cell_type": "code",
   "execution_count": 104,
   "id": "ad9adf6c",
   "metadata": {},
   "outputs": [
    {
     "data": {
      "text/plain": [
       "<AxesSubplot:xlabel='heat_id', ylabel='Count'>"
      ]
     },
     "execution_count": 104,
     "metadata": {},
     "output_type": "execute_result"
    },
    {
     "data": {
      "image/png": "[encoded data removed]",
      "text/plain": [
       "<Figure size 1440x720 with 1 Axes>"
      ]
     },
     "metadata": {},
     "output_type": "display_data"
    }
   ],
   "source": [
    "sns.histplot(\n",
    "    data=df[df[\"location\"] == \"delft\"].groupby(\"date\")[\"heat_id\"].count().reset_index(),\n",
    "    x=\"heat_id\"\n",
    ")\n",
    "# plt.xlim(0, 400)"
   ]
  },
  {
   "cell_type": "code",
   "execution_count": null,
   "id": "f17c78a5",
   "metadata": {},
   "outputs": [],
   "source": []
  },
  {
   "cell_type": "markdown",
   "id": "0de2e60a",
   "metadata": {},
   "source": [
    "## Aantallen"
   ]
  },
  {
   "cell_type": "code",
   "execution_count": 92,
   "id": "477ff30a",
   "metadata": {},
   "outputs": [],
   "source": [
    "customers = df[[\"location\", \"date\", \"heat_id\", \"name\"]].drop_duplicates()"
   ]
  },
  {
   "cell_type": "code",
   "execution_count": 93,
   "id": "feec7d0e",
   "metadata": {},
   "outputs": [],
   "source": [
    "customers[\"year\"] = customers[\"date\"].dt.year\n",
    "customers[\"month\"] = customers[\"date\"].dt.month"
   ]
  },
  {
   "cell_type": "code",
   "execution_count": 94,
   "id": "6239c831",
   "metadata": {},
   "outputs": [
    {
     "data": {
      "text/html": [
       "<div>\n",
       "<style scoped>\n",
       "    .dataframe tbody tr th:only-of-type {\n",
       "        vertical-align: middle;\n",
       "    }\n",
       "\n",
       "    .dataframe tbody tr th {\n",
       "        vertical-align: top;\n",
       "    }\n",
       "\n",
       "    .dataframe thead th {\n",
       "        text-align: right;\n",
       "    }\n",
       "</style>\n",
       "<table border=\"1\" class=\"dataframe\">\n",
       "  <thead>\n",
       "    <tr style=\"text-align: right;\">\n",
       "      <th></th>\n",
       "      <th>location</th>\n",
       "      <th>date</th>\n",
       "      <th>heat_id</th>\n",
       "      <th>name</th>\n",
       "      <th>year</th>\n",
       "      <th>month</th>\n",
       "    </tr>\n",
       "  </thead>\n",
       "  <tbody>\n",
       "    <tr>\n",
       "      <th>0</th>\n",
       "      <td>delft</td>\n",
       "      <td>2025-02-01</td>\n",
       "      <td>523341BC2F7E42F4A3976495919C6D4D</td>\n",
       "      <td>Tymon Keler</td>\n",
       "      <td>2025</td>\n",
       "      <td>2</td>\n",
       "    </tr>\n",
       "    <tr>\n",
       "      <th>15</th>\n",
       "      <td>delft</td>\n",
       "      <td>2025-02-01</td>\n",
       "      <td>523341BC2F7E42F4A3976495919C6D4D</td>\n",
       "      <td>Svens Jelnieks</td>\n",
       "      <td>2025</td>\n",
       "      <td>2</td>\n",
       "    </tr>\n",
       "    <tr>\n",
       "      <th>31</th>\n",
       "      <td>delft</td>\n",
       "      <td>2025-02-01</td>\n",
       "      <td>523341BC2F7E42F4A3976495919C6D4D</td>\n",
       "      <td>Ethan Sheldon</td>\n",
       "      <td>2025</td>\n",
       "      <td>2</td>\n",
       "    </tr>\n",
       "    <tr>\n",
       "      <th>46</th>\n",
       "      <td>delft</td>\n",
       "      <td>2025-02-01</td>\n",
       "      <td>269886A38DF54694805E8518A1AB36CA</td>\n",
       "      <td>Bas Dalmulder</td>\n",
       "      <td>2025</td>\n",
       "      <td>2</td>\n",
       "    </tr>\n",
       "    <tr>\n",
       "      <th>59</th>\n",
       "      <td>delft</td>\n",
       "      <td>2025-02-01</td>\n",
       "      <td>269886A38DF54694805E8518A1AB36CA</td>\n",
       "      <td>Brydon Leonard</td>\n",
       "      <td>2025</td>\n",
       "      <td>2</td>\n",
       "    </tr>\n",
       "  </tbody>\n",
       "</table>\n",
       "</div>"
      ],
      "text/plain": [
       "   location       date                           heat_id            name  \\\n",
       "0     delft 2025-02-01  523341BC2F7E42F4A3976495919C6D4D     Tymon Keler   \n",
       "15    delft 2025-02-01  523341BC2F7E42F4A3976495919C6D4D  Svens Jelnieks   \n",
       "31    delft 2025-02-01  523341BC2F7E42F4A3976495919C6D4D   Ethan Sheldon   \n",
       "46    delft 2025-02-01  269886A38DF54694805E8518A1AB36CA   Bas Dalmulder   \n",
       "59    delft 2025-02-01  269886A38DF54694805E8518A1AB36CA  Brydon Leonard   \n",
       "\n",
       "    year  month  \n",
       "0   2025      2  \n",
       "15  2025      2  \n",
       "31  2025      2  \n",
       "46  2025      2  \n",
       "59  2025      2  "
      ]
     },
     "execution_count": 94,
     "metadata": {},
     "output_type": "execute_result"
    }
   ],
   "source": [
    "customers.head()"
   ]
  },
  {
   "cell_type": "code",
   "execution_count": null,
   "id": "c704b0c3",
   "metadata": {},
   "outputs": [],
   "source": []
  },
  {
   "cell_type": "code",
   "execution_count": 95,
   "id": "ba833fdd",
   "metadata": {},
   "outputs": [
    {
     "data": {
      "text/plain": [
       "<AxesSubplot:xlabel='month', ylabel='heat_id'>"
      ]
     },
     "execution_count": 95,
     "metadata": {},
     "output_type": "execute_result"
    },
    {
     "data": {
      "image/png": "[encoded data removed]",
      "text/plain": [
       "<Figure size 1440x720 with 1 Axes>"
      ]
     },
     "metadata": {},
     "output_type": "display_data"
    }
   ],
   "source": [
    "sns.barplot(\n",
    "    data=customers.groupby([\"year\", \"month\", \"location\"])[\"heat_id\"].count().reset_index(),\n",
    "    x=\"month\",\n",
    "    y=\"heat_id\",\n",
    "    hue=\"location\"\n",
    ")"
   ]
  },
  {
   "cell_type": "code",
   "execution_count": null,
   "id": "b32b4150",
   "metadata": {},
   "outputs": [],
   "source": []
  },
  {
   "cell_type": "code",
   "execution_count": 90,
   "id": "3cb7f6d2",
   "metadata": {},
   "outputs": [
    {
     "data": {
      "text/plain": [
       "year  month\n",
       "2025  1        1021\n",
       "      2        1043\n",
       "      3        1064\n",
       "      4        1031\n",
       "      5        1068\n",
       "      6        2128\n",
       "      7        2538\n",
       "      8        2766\n",
       "      9        1977\n",
       "Name: heat_id, dtype: int64"
      ]
     },
     "execution_count": 90,
     "metadata": {},
     "output_type": "execute_result"
    }
   ],
   "source": [
    "# Number of heats per month\n",
    "customers.groupby([\"year\", \"month\"])[\"heat_id\"].nunique()"
   ]
  },
  {
   "cell_type": "code",
   "execution_count": 91,
   "id": "dd929f59",
   "metadata": {},
   "outputs": [
    {
     "data": {
      "text/plain": [
       "year  month\n",
       "2025  1         7022\n",
       "      2         6745\n",
       "      3         7293\n",
       "      4         6163\n",
       "      5         7204\n",
       "      6        13969\n",
       "      7        16457\n",
       "      8        16648\n",
       "      9        13517\n",
       "Name: heat_id, dtype: int64"
      ]
     },
     "execution_count": 91,
     "metadata": {},
     "output_type": "execute_result"
    }
   ],
   "source": [
    "# Number of customers per month\n",
    "customers.groupby([\"year\", \"month\"])[\"heat_id\"].count()"
   ]
  },
  {
   "cell_type": "code",
   "execution_count": 254,
   "id": "d89d95c7",
   "metadata": {},
   "outputs": [
    {
     "data": {
      "text/plain": [
       "month\n",
       "5      13082\n",
       "6     208692\n",
       "7     188821\n",
       "8     210583\n",
       "9     176514\n",
       "10    211203\n",
       "11    233430\n",
       "12     19468\n",
       "Name: omzet, dtype: int64"
      ]
     },
     "execution_count": 254,
     "metadata": {},
     "output_type": "execute_result"
    }
   ],
   "source": [
    "# Geschatte omzet\n",
    "drivers.groupby(\"month\")[\"omzet\"].sum()"
   ]
  },
  {
   "cell_type": "code",
   "execution_count": null,
   "id": "43598974",
   "metadata": {},
   "outputs": [],
   "source": []
  },
  {
   "cell_type": "code",
   "execution_count": null,
   "id": "bb94a9b8",
   "metadata": {},
   "outputs": [],
   "source": []
  }
 ],
 "metadata": {
  "kernelspec": {
   "display_name": "Python 3",
   "language": "python",
   "name": "python3"
  },
  "language_info": {
   "codemirror_mode": {
    "name": "ipython",
    "version": 3
   },
   "file_extension": ".py",
   "mimetype": "text/x-python",
   "name": "python",
   "nbconvert_exporter": "python",
   "pygments_lexer": "ipython3",
   "version": "3.9.13"
  }
 },
 "nbformat": 4,
 "nbformat_minor": 5
}
